{
 "cells": [
  {
   "cell_type": "markdown",
   "metadata": {},
   "source": [
    "# Mejor recorrido con DEAP"
   ]
  },
  {
   "cell_type": "markdown",
   "metadata": {},
   "source": [
    "Como se vio en la pregunta anterior, trabajaremos con el grafo dado, por lo cual, usaremos el mismo archivo csv generado"
   ]
  },
  {
   "cell_type": "markdown",
   "metadata": {},
   "source": [
    "importamos las librerías"
   ]
  },
  {
   "cell_type": "code",
   "execution_count": 1,
   "metadata": {},
   "outputs": [],
   "source": [
    "from deap import creator\n",
    "from deap import algorithms\n",
    "from deap import tools\n",
    "from deap import base\n",
    "\n",
    "import array\n",
    "import random\n",
    "import numpy\n",
    "\n",
    "import pandas as pd"
   ]
  },
  {
   "cell_type": "code",
   "execution_count": 2,
   "metadata": {},
   "outputs": [],
   "source": [
    "datos=pd.read_csv('matriz_caminos.csv',header = 0)"
   ]
  },
  {
   "cell_type": "markdown",
   "metadata": {},
   "source": [
    "Ahora se crean las funciones \"evaluacion\" y \"main\", donde se evaluan las generaciones y se miden las distancias de las rutas y se define la funcion principal, mostrando también variables estadísticas que corroboran el funcionamiento del programa, respectivamente"
   ]
  },
  {
   "cell_type": "code",
   "execution_count": 3,
   "metadata": {},
   "outputs": [],
   "source": [
    "def evaluacion(individual):\n",
    "\n",
    "    dist = distM[individual[-1]][individual[0]]\n",
    "    for gene1, gene2 in zip(individual[0:-1], individual[1:]):\n",
    "        dist += distM[gene1][gene2]\n",
    "    return dist,\n",
    "\n",
    "def main():\n",
    "    random.seed(169)\n",
    "\n",
    "    pop = toolbox.population(n=1000)\n",
    "\n",
    "    hof = tools.HallOfFame(1)\n",
    "    stats = tools.Statistics(lambda ind: ind.fitness.values)\n",
    "    stats.register(\"avg\", numpy.mean)\n",
    "    stats.register(\"std\", numpy.std)\n",
    "    stats.register(\"min\", numpy.min)\n",
    "    stats.register(\"max\", numpy.max)\n",
    "    \n",
    "    algorithms.eaSimple(pop, toolbox, 0.7, 0.2, 100, stats=stats, \n",
    "                        halloffame=hof)\n",
    "    \n",
    "    return pop, stats, hof"
   ]
  },
  {
   "cell_type": "code",
   "execution_count": 5,
   "metadata": {},
   "outputs": [
    {
     "name": "stdout",
     "output_type": "stream",
     "text": [
      "matriz de rutas:  [[0, 7, 9, 8], [7, 0, 10, 4], [9, 10, 0, 15], [8, 4, 15, 0]]\n",
      "\n",
      "\n",
      "gen\tnevals\tavg   \tstd    \tmin\tmax\n",
      "0  \t1000  \t35.297\t3.70254\t31 \t40 \n",
      "1  \t797   \t32.875\t3.22791\t31 \t40 \n",
      "2  \t777   \t32.692\t3.25041\t31 \t40 \n"
     ]
    },
    {
     "name": "stderr",
     "output_type": "stream",
     "text": [
      "C:\\Users\\vmont\\anaconda3\\lib\\site-packages\\deap\\creator.py:138: RuntimeWarning: A class named 'FitnessMin' has already been created and it will be overwritten. Consider deleting previous creation of that class or rename it.\n",
      "  warnings.warn(\"A class named '{0}' has already been created and it \"\n",
      "C:\\Users\\vmont\\anaconda3\\lib\\site-packages\\deap\\creator.py:138: RuntimeWarning: A class named 'Individual' has already been created and it will be overwritten. Consider deleting previous creation of that class or rename it.\n",
      "  warnings.warn(\"A class named '{0}' has already been created and it \"\n"
     ]
    },
    {
     "name": "stdout",
     "output_type": "stream",
     "text": [
      "3  \t738   \t32.585\t3.04512\t31 \t40 \n",
      "4  \t758   \t32.611\t3.09252\t31 \t40 \n",
      "5  \t787   \t32.501\t3.00267\t31 \t40 \n",
      "6  \t774   \t32.526\t2.98418\t31 \t40 \n",
      "7  \t740   \t32.385\t2.85776\t31 \t40 \n",
      "8  \t761   \t32.391\t2.99735\t31 \t40 \n",
      "9  \t758   \t31.844\t2.27677\t31 \t40 \n",
      "10 \t756   \t31.892\t2.45201\t31 \t40 \n",
      "11 \t755   \t31.533\t1.82563\t31 \t40 \n",
      "12 \t716   \t31.337\t1.53604\t31 \t40 \n",
      "13 \t718   \t31.265\t1.32468\t31 \t40 \n",
      "14 \t753   \t31.198\t1.09672\t31 \t40 \n",
      "15 \t780   \t31.159\t1.05153\t31 \t40 \n",
      "16 \t710   \t31.137\t0.966556\t31 \t40 \n",
      "17 \t751   \t31.166\t1.12536 \t31 \t40 \n",
      "18 \t732   \t31.117\t0.92699 \t31 \t40 \n",
      "19 \t739   \t31.119\t0.978181\t31 \t40 \n",
      "20 \t753   \t31.134\t0.983892\t31 \t40 \n",
      "21 \t760   \t31.159\t1.05153 \t31 \t40 \n",
      "22 \t732   \t31.135\t1.00835 \t31 \t40 \n",
      "23 \t801   \t31.111\t0.864106\t31 \t40 \n",
      "24 \t769   \t31.127\t0.993414\t31 \t40 \n",
      "25 \t785   \t31.159\t1.1339  \t31 \t40 \n",
      "26 \t761   \t31.201\t1.16129 \t31 \t40 \n",
      "27 \t754   \t31.144\t0.956694\t31 \t40 \n",
      "28 \t752   \t31.179\t1.16574 \t31 \t40 \n",
      "29 \t746   \t31.113\t0.91882 \t31 \t40 \n",
      "30 \t761   \t31.112\t0.891883\t31 \t40 \n",
      "31 \t779   \t31.173\t1.11672 \t31 \t40 \n",
      "32 \t748   \t31.273\t1.46372 \t31 \t40 \n",
      "33 \t789   \t31.239\t1.32434 \t31 \t40 \n",
      "34 \t796   \t31.148\t1.05361 \t31 \t40 \n",
      "35 \t757   \t31.142\t0.998917\t31 \t40 \n",
      "36 \t789   \t31.151\t1.0374  \t31 \t40 \n",
      "37 \t775   \t31.164\t1.16151 \t31 \t40 \n",
      "38 \t788   \t31.171\t1.15315 \t31 \t40 \n",
      "39 \t749   \t31.165\t1.10353 \t31 \t40 \n",
      "40 \t785   \t31.135\t1.00835 \t31 \t40 \n",
      "41 \t748   \t31.206\t1.26157 \t31 \t40 \n",
      "42 \t797   \t31.155\t1.0445  \t31 \t40 \n",
      "43 \t748   \t31.195\t1.19037 \t31 \t40 \n",
      "44 \t767   \t31.147\t1.03024 \t31 \t40 \n",
      "45 \t746   \t31.216\t1.31047 \t31 \t40 \n",
      "46 \t792   \t31.143\t1.02301 \t31 \t40 \n",
      "47 \t768   \t31.182\t1.15103 \t31 \t40 \n",
      "48 \t730   \t31.201\t1.23637 \t31 \t40 \n",
      "49 \t767   \t31.135\t0.914754\t31 \t40 \n",
      "50 \t738   \t31.156\t1.06755 \t31 \t40 \n",
      "51 \t749   \t31.163\t1.0585  \t31 \t40 \n",
      "52 \t776   \t31.16 \t1.07443 \t31 \t40 \n",
      "53 \t752   \t31.161\t1.09685 \t31 \t40 \n",
      "54 \t773   \t31.213\t1.25365 \t31 \t40 \n",
      "55 \t739   \t31.173\t1.11672 \t31 \t40 \n",
      "56 \t740   \t31.146\t1.00632 \t31 \t40 \n",
      "57 \t723   \t31.117\t0.92699 \t31 \t40 \n",
      "58 \t788   \t31.158\t1.02812 \t31 \t40 \n",
      "59 \t734   \t31.295\t1.5192  \t31 \t40 \n",
      "60 \t770   \t31.185\t1.13612 \t31 \t40 \n",
      "61 \t756   \t31.197\t1.15507 \t31 \t40 \n",
      "62 \t747   \t31.152\t1.06061 \t31 \t40 \n",
      "63 \t774   \t31.185\t1.13612 \t31 \t40 \n",
      "64 \t763   \t31.222\t1.28402 \t31 \t40 \n",
      "65 \t771   \t31.144\t1.04655 \t31 \t40 \n",
      "66 \t728   \t31.186\t1.15733 \t31 \t40 \n",
      "67 \t736   \t31.135\t1.00835 \t31 \t40 \n",
      "68 \t764   \t31.153\t1.08332 \t31 \t40 \n",
      "69 \t764   \t31.185\t1.21276 \t31 \t40 \n",
      "70 \t742   \t31.155\t1.0445  \t31 \t40 \n",
      "71 \t770   \t31.168\t1.08801 \t31 \t40 \n",
      "72 \t758   \t31.145\t1.06957 \t31 \t40 \n",
      "73 \t756   \t31.229\t1.34483 \t31 \t40 \n",
      "74 \t779   \t31.082\t0.768945\t31 \t40 \n",
      "75 \t769   \t31.192\t1.20463 \t31 \t40 \n",
      "76 \t761   \t31.197\t1.23052 \t31 \t40 \n",
      "77 \t775   \t31.191\t1.18428 \t31 \t40 \n",
      "78 \t733   \t31.179\t1.16574 \t31 \t40 \n",
      "79 \t777   \t31.185\t1.13612 \t31 \t40 \n",
      "80 \t734   \t31.129\t0.950978\t31 \t40 \n",
      "81 \t738   \t31.188\t1.19861 \t31 \t40 \n",
      "82 \t764   \t31.183\t1.09248 \t31 \t40 \n",
      "83 \t761   \t31.129\t0.950978\t31 \t40 \n",
      "84 \t739   \t31.223\t1.30279 \t31 \t40 \n",
      "85 \t776   \t31.191\t1.18428 \t31 \t40 \n",
      "86 \t758   \t31.193\t1.22464 \t31 \t40 \n",
      "87 \t745   \t31.182\t1.15103 \t31 \t40 \n",
      "88 \t771   \t31.166\t1.12536 \t31 \t40 \n",
      "89 \t781   \t31.183\t1.09248 \t31 \t40 \n",
      "90 \t738   \t31.164\t1.08125 \t31 \t40 \n",
      "91 \t744   \t31.209\t1.24793 \t31 \t40 \n",
      "92 \t747   \t31.135\t1.00835 \t31 \t40 \n",
      "93 \t767   \t31.177\t1.12324 \t31 \t40 \n",
      "94 \t724   \t31.196\t1.13384 \t31 \t40 \n",
      "95 \t790   \t31.2  \t1.21655 \t31 \t40 \n",
      "96 \t744   \t31.148\t1.05361 \t31 \t40 \n",
      "97 \t733   \t31.197\t1.15507 \t31 \t40 \n",
      "98 \t753   \t31.103\t0.846399\t31 \t40 \n",
      "99 \t757   \t31.159\t1.05153 \t31 \t40 \n",
      "100\t754   \t31.186\t1.15733 \t31 \t40 \n",
      "[Individual('i', [3, 0, 2, 1])]\n",
      "(31,)\n"
     ]
    }
   ],
   "source": [
    "pi=[]\n",
    "ka=[]\n",
    "chu = 4\n",
    "\n",
    "for j in range(4):\n",
    "    fila=datos.iloc[j]\n",
    "    for i in range(4):\n",
    "        ka.append(fila[i])\n",
    "    pi.append(ka)\n",
    "    ka=[]\n",
    "print(\"matriz de rutas: \", pi)\n",
    "print(\"\\n\")\n",
    "\n",
    "distM = pi\n",
    "\n",
    "creator.create(\"FitnessMin\", base.Fitness, weights=(-1.0,))\n",
    "creator.create(\"Individual\", array.array, typecode='i', fitness=creator.FitnessMin)\n",
    "\n",
    "toolbox = base.Toolbox()\n",
    "toolbox.register(\"indices\", random.sample, range(chu), chu)\n",
    "toolbox.register(\"individual\", tools.initIterate, creator.Individual, toolbox.indices)\n",
    "toolbox.register(\"population\", tools.initRepeat, list, toolbox.individual)\n",
    "toolbox.register(\"mate\", tools.cxPartialyMatched)\n",
    "toolbox.register(\"mutate\", tools.mutShuffleIndexes, indpb=0.05)\n",
    "toolbox.register(\"select\", tools.selTournament, tournsize=30)\n",
    "toolbox.register(\"evaluate\", evaluacion)\n",
    "\n",
    "if __name__ == \"__main__\":\n",
    "    pop,stats,hof=main()\n",
    "    print(hof)\n",
    "    print(evaluacion(hof[0]))"
   ]
  },
  {
   "cell_type": "markdown",
   "metadata": {},
   "source": [
    "Como vemos al igual que sin el uso de librerías, el mejor camino tiene un peso de 40."
   ]
  },
  {
   "cell_type": "code",
   "execution_count": null,
   "metadata": {},
   "outputs": [],
   "source": []
  }
 ],
 "metadata": {
  "kernelspec": {
   "display_name": "Python 3",
   "language": "python",
   "name": "python3"
  },
  "language_info": {
   "codemirror_mode": {
    "name": "ipython",
    "version": 3
   },
   "file_extension": ".py",
   "mimetype": "text/x-python",
   "name": "python",
   "nbconvert_exporter": "python",
   "pygments_lexer": "ipython3",
   "version": "3.8.5"
  }
 },
 "nbformat": 4,
 "nbformat_minor": 4
}
