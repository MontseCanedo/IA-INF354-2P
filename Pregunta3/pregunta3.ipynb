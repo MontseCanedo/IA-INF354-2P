{
 "cells": [
  {
   "cell_type": "markdown",
   "metadata": {},
   "source": [
    "# Mejor recorrido con DEAP"
   ]
  },
  {
   "cell_type": "markdown",
   "metadata": {},
   "source": [
    "Como se vio en la pregunta anterior, trabajaremos con el grafo dado, por lo cual, usaremos el mismo archivo csv generado"
   ]
  },
  {
   "cell_type": "markdown",
   "metadata": {},
   "source": [
    "importamos las librerías"
   ]
  },
  {
   "cell_type": "code",
   "execution_count": 1,
   "metadata": {},
   "outputs": [],
   "source": [
    "from deap import creator\n",
    "from deap import algorithms\n",
    "from deap import tools\n",
    "from deap import base\n",
    "\n",
    "import array\n",
    "import random\n",
    "import numpy\n",
    "\n",
    "import pandas as pd"
   ]
  },
  {
   "cell_type": "code",
   "execution_count": 3,
   "metadata": {},
   "outputs": [],
   "source": [
    "datos=pd.read_csv('matriz_caminos.csv',header = 0)"
   ]
  },
  {
   "cell_type": "markdown",
   "metadata": {},
   "source": [
    "Ahora se crean las funciones \"evaluacion\" y \"main\", donde se evaluan las generaciones y se miden las distancias de las rutas y se define la funcion principal, mostrando también variables estadísticas que corroboran el funcionamiento del programa, respectivamente"
   ]
  },
  {
   "cell_type": "code",
   "execution_count": 4,
   "metadata": {},
   "outputs": [],
   "source": [
    "def evaluacion(individual):\n",
    "\n",
    "    dist = distM[individual[-1]][individual[0]]\n",
    "    for gene1, gene2 in zip(individual[0:-1], individual[1:]):\n",
    "        dist += distM[gene1][gene2]\n",
    "    return dist,\n",
    "\n",
    "def main():\n",
    "    random.seed(169)\n",
    "\n",
    "    pop = toolbox.population(n=1000)\n",
    "\n",
    "    hof = tools.HallOfFame(1)\n",
    "    stats = tools.Statistics(lambda ind: ind.fitness.values)\n",
    "    stats.register(\"avg\", numpy.mean)\n",
    "    stats.register(\"std\", numpy.std)\n",
    "    stats.register(\"min\", numpy.min)\n",
    "    stats.register(\"max\", numpy.max)\n",
    "    \n",
    "    algorithms.eaSimple(pop, toolbox, 0.7, 0.2, 100, stats=stats, \n",
    "                        halloffame=hof)\n",
    "    \n",
    "    return pop, stats, hof"
   ]
  },
  {
   "cell_type": "code",
   "execution_count": 5,
   "metadata": {},
   "outputs": [
    {
     "name": "stdout",
     "output_type": "stream",
     "text": [
      "matriz de rutas:  [[0, 7, 9, 8], [7, 0, 10, 4], [9, 10, 0, 11], [8, 4, 11, 0]]\n",
      "\n",
      "\n",
      "gen\tnevals\tavg   \tstd    \tmin\tmax\n",
      "0  \t1000  \t32.665\t2.35643\t31 \t36 \n",
      "1  \t797   \t31.735\t1.77053\t31 \t36 \n",
      "2  \t777   \t31.82 \t1.85138\t31 \t36 \n",
      "3  \t738   \t31.825\t1.8559 \t31 \t36 \n",
      "4  \t758   \t31.795\t1.82838\t31 \t36 \n",
      "5  \t787   \t31.73 \t1.76553\t31 \t36 \n",
      "6  \t774   \t31.75 \t1.78536\t31 \t36 \n",
      "7  \t740   \t31.675\t1.70862\t31 \t36 \n",
      "8  \t761   \t31.825\t1.8559 \t31 \t36 \n",
      "9  \t758   \t31.91 \t1.92922\t31 \t36 \n",
      "10 \t756   \t31.785\t1.819  \t31 \t36 \n",
      "11 \t755   \t31.725\t1.7605 \t31 \t36 \n",
      "12 \t716   \t31.72 \t1.75545\t31 \t36 \n",
      "13 \t718   \t31.68 \t1.71394\t31 \t36 \n",
      "14 \t753   \t31.815\t1.84683\t31 \t36 \n",
      "15 \t780   \t31.8  \t1.83303\t31 \t36 \n",
      "16 \t710   \t31.49 \t1.48657\t31 \t36 \n",
      "17 \t751   \t31.865\t1.89124\t31 \t36 \n",
      "18 \t732   \t31.81 \t1.84225\t31 \t36 \n",
      "19 \t739   \t31.63 \t1.65925\t31 \t36 \n",
      "20 \t753   \t31.845\t1.87376\t31 \t36 \n",
      "21 \t760   \t31.845\t1.87376\t31 \t36 \n",
      "22 \t732   \t31.82 \t1.85138\t31 \t36 \n",
      "23 \t801   \t31.85 \t1.87816\t31 \t36 \n",
      "24 \t769   \t31.755\t1.79024\t31 \t36 \n",
      "25 \t785   \t31.815\t1.84683\t31 \t36 \n",
      "26 \t761   \t31.885\t1.90834\t31 \t36 \n",
      "27 \t754   \t31.75 \t1.78536\t31 \t36 \n",
      "28 \t752   \t31.74 \t1.7755 \t31 \t36 \n",
      "29 \t746   \t31.78 \t1.81428\t31 \t36 \n",
      "30 \t761   \t31.795\t1.82838\t31 \t36 \n",
      "31 \t779   \t31.69 \t1.7245 \t31 \t36 \n",
      "32 \t748   \t31.76 \t1.7951 \t31 \t36 \n",
      "33 \t789   \t31.855\t1.88254\t31 \t36 \n",
      "34 \t796   \t31.755\t1.79024\t31 \t36 \n",
      "35 \t757   \t31.7  \t1.73494\t31 \t36 \n",
      "36 \t789   \t31.78 \t1.81428\t31 \t36 \n",
      "37 \t775   \t31.84 \t1.86933\t31 \t36 \n",
      "38 \t788   \t31.825\t1.8559 \t31 \t36 \n",
      "39 \t749   \t31.785\t1.819  \t31 \t36 \n",
      "40 \t785   \t31.895\t1.91676\t31 \t36 \n",
      "41 \t748   \t31.73 \t1.76553\t31 \t36 \n",
      "42 \t797   \t31.87 \t1.89555\t31 \t36 \n",
      "43 \t748   \t31.71 \t1.74525\t31 \t36 \n",
      "44 \t767   \t31.7  \t1.73494\t31 \t36 \n",
      "45 \t746   \t31.675\t1.70862\t31 \t36 \n",
      "46 \t792   \t31.705\t1.74011\t31 \t36 \n",
      "47 \t768   \t31.685\t1.71924\t31 \t36 \n",
      "48 \t730   \t31.73 \t1.76553\t31 \t36 \n",
      "49 \t767   \t31.69 \t1.7245 \t31 \t36 \n",
      "50 \t738   \t31.605\t1.63064\t31 \t36 \n",
      "51 \t749   \t31.795\t1.82838\t31 \t36 \n",
      "52 \t776   \t31.84 \t1.86933\t31 \t36 \n",
      "53 \t752   \t31.69 \t1.7245 \t31 \t36 \n",
      "54 \t773   \t31.735\t1.77053\t31 \t36 \n",
      "55 \t739   \t31.65 \t1.68152\t31 \t36 \n",
      "56 \t740   \t31.63 \t1.65925\t31 \t36 \n",
      "57 \t723   \t31.64 \t1.67045\t31 \t36 \n",
      "58 \t788   \t31.615\t1.64219\t31 \t36 \n",
      "59 \t734   \t31.59 \t1.61304\t31 \t36 \n",
      "60 \t770   \t31.64 \t1.67045\t31 \t36 \n",
      "61 \t756   \t31.615\t1.64219\t31 \t36 \n",
      "62 \t747   \t31.59 \t1.61304\t31 \t36 \n",
      "63 \t774   \t31.56 \t1.57683\t31 \t36 \n",
      "64 \t763   \t31.765\t1.79994\t31 \t36 \n",
      "65 \t771   \t31.64 \t1.67045\t31 \t36 \n",
      "66 \t728   \t31.535\t1.54557\t31 \t36 \n",
      "67 \t736   \t31.615\t1.64219\t31 \t36 \n",
      "68 \t764   \t31.485\t1.47979\t31 \t36 \n",
      "69 \t764   \t31.615\t1.64219\t31 \t36 \n",
      "70 \t742   \t31.55 \t1.56445\t31 \t36 \n",
      "71 \t770   \t31.58 \t1.60112\t31 \t36 \n",
      "72 \t758   \t31.625\t1.65359\t31 \t36 \n",
      "73 \t756   \t31.685\t1.71924\t31 \t36 \n",
      "74 \t779   \t31.55 \t1.56445\t31 \t36 \n",
      "75 \t769   \t31.56 \t1.57683\t31 \t36 \n",
      "76 \t761   \t31.645\t1.676  \t31 \t36 \n",
      "77 \t775   \t31.615\t1.64219\t31 \t36 \n",
      "78 \t733   \t31.565\t1.58296\t31 \t36 \n",
      "79 \t777   \t31.63 \t1.65925\t31 \t36 \n",
      "80 \t734   \t31.59 \t1.61304\t31 \t36 \n",
      "81 \t738   \t31.565\t1.58296\t31 \t36 \n",
      "82 \t764   \t31.555\t1.57066\t31 \t36 \n",
      "83 \t761   \t31.5  \t1.5    \t31 \t36 \n",
      "84 \t739   \t31.56 \t1.57683\t31 \t36 \n",
      "85 \t776   \t31.54 \t1.5519 \t31 \t36 \n",
      "86 \t758   \t31.48 \t1.47296\t31 \t36 \n",
      "87 \t745   \t31.52 \t1.5263 \t31 \t36 \n",
      "88 \t771   \t31.555\t1.57066\t31 \t36 \n",
      "89 \t781   \t31.625\t1.65359\t31 \t36 \n",
      "90 \t738   \t31.51 \t1.51324\t31 \t36 \n",
      "91 \t744   \t31.51 \t1.51324\t31 \t36 \n",
      "92 \t747   \t31.58 \t1.60112\t31 \t36 \n",
      "93 \t767   \t31.555\t1.57066\t31 \t36 \n",
      "94 \t724   \t31.575\t1.59511\t31 \t36 \n",
      "95 \t790   \t31.67 \t1.70326\t31 \t36 \n",
      "96 \t744   \t31.505\t1.50664\t31 \t36 \n",
      "97 \t733   \t31.56 \t1.57683\t31 \t36 \n",
      "98 \t753   \t31.455\t1.43805\t31 \t36 \n",
      "99 \t757   \t31.555\t1.57066\t31 \t36 \n",
      "100\t754   \t31.515\t1.51979\t31 \t36 \n",
      "[Individual('i', [2, 3, 1, 0])]\n",
      "(31,)\n"
     ]
    }
   ],
   "source": [
    "pi=[]\n",
    "ka=[]\n",
    "chu = 4\n",
    "\n",
    "for j in range(4):\n",
    "    fila=datos.iloc[j]\n",
    "    for i in range(4):\n",
    "        ka.append(fila[i])\n",
    "    pi.append(ka)\n",
    "    ka=[]\n",
    "print(\"matriz de rutas: \", pi)\n",
    "print(\"\\n\")\n",
    "\n",
    "distM = pi\n",
    "\n",
    "creator.create(\"FitnessMin\", base.Fitness, weights=(-1.0,))\n",
    "creator.create(\"Individual\", array.array, typecode='i', fitness=creator.FitnessMin)\n",
    "\n",
    "toolbox = base.Toolbox()\n",
    "toolbox.register(\"indices\", random.sample, range(chu), chu)\n",
    "toolbox.register(\"individual\", tools.initIterate, creator.Individual, toolbox.indices)\n",
    "toolbox.register(\"population\", tools.initRepeat, list, toolbox.individual)\n",
    "toolbox.register(\"mate\", tools.cxPartialyMatched)\n",
    "toolbox.register(\"mutate\", tools.mutShuffleIndexes, indpb=0.05)\n",
    "toolbox.register(\"select\", tools.selTournament, tournsize=30)\n",
    "toolbox.register(\"evaluate\", evaluacion)\n",
    "\n",
    "if __name__ == \"__main__\":\n",
    "    pop,stats,hof=main()\n",
    "    print(hof)\n",
    "    print(evaluacion(hof[0]))"
   ]
  },
  {
   "cell_type": "markdown",
   "metadata": {},
   "source": [
    "Como vemos al igual que sin el uso de librerías, el mejor camino tiene un peso de 36"
   ]
  },
  {
   "cell_type": "code",
   "execution_count": null,
   "metadata": {},
   "outputs": [],
   "source": []
  }
 ],
 "metadata": {
  "kernelspec": {
   "display_name": "Python 3",
   "language": "python",
   "name": "python3"
  },
  "language_info": {
   "codemirror_mode": {
    "name": "ipython",
    "version": 3
   },
   "file_extension": ".py",
   "mimetype": "text/x-python",
   "name": "python",
   "nbconvert_exporter": "python",
   "pygments_lexer": "ipython3",
   "version": "3.8.5"
  }
 },
 "nbformat": 4,
 "nbformat_minor": 4
}
