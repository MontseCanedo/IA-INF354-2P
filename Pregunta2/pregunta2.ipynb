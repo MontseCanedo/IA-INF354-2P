{
 "cells": [
  {
   "cell_type": "markdown",
   "metadata": {},
   "source": [
    "# Mejor recorrido sin uso de DEAP"
   ]
  },
  {
   "cell_type": "markdown",
   "metadata": {},
   "source": [
    "Para resolver esto, tenemos el siguiente grafo:"
   ]
  },
  {
   "cell_type": "markdown",
   "metadata": {},
   "source": [
    "<img src=\"grafo.png\">"
   ]
  },
  {
   "cell_type": "markdown",
   "metadata": {},
   "source": [
    "Ahora importamos el archivo csv generado a partir del grafo."
   ]
  },
  {
   "cell_type": "code",
   "execution_count": 1,
   "metadata": {},
   "outputs": [],
   "source": [
    "import pandas as pd\n",
    "datos=pd.read_csv('matriz_caminos.csv',header = 0)"
   ]
  },
  {
   "cell_type": "code",
   "execution_count": 2,
   "metadata": {},
   "outputs": [],
   "source": [
    "arr=[]\n",
    "arr2=[]\n",
    "lim_sup=0\n",
    "lim_inf=0\n",
    "mini = []\n",
    "mini2=[]\n",
    "PG=[]\n",
    "MG=[]\n",
    "distanciasR=[]"
   ]
  },
  {
   "cell_type": "markdown",
   "metadata": {},
   "source": [
    "Se llenan los datos a las listas creadas y se recorre mediante un bucle para sacar el límite inferior, que posteriormente nos servirá para ir ramificando las rutas"
   ]
  },
  {
   "cell_type": "code",
   "execution_count": 3,
   "metadata": {},
   "outputs": [
    {
     "name": "stdout",
     "output_type": "stream",
     "text": [
      "Matriz de distancias: \n",
      " [[0, 7, 9, 8], [7, 0, 10, 4], [9, 10, 0, 11], [8, 4, 11, 0]] \n",
      "\n",
      "[7, 4, 9, 4]\n",
      "limite Inferior:  24\n"
     ]
    }
   ],
   "source": [
    "for j in range(4):\n",
    "    fila=datos.iloc[j]\n",
    "    for i in range(4):\n",
    "        arr2.append(fila[i])\n",
    "    arr.append(arr2)\n",
    "    arr2=[]\n",
    "\n",
    "print('Matriz de distancias: \\n',arr,'\\n')\n",
    "\n",
    "for i in range(4):\n",
    "    for j in range(4):\n",
    "        if arr[i][j] != 0:\n",
    "            mini.append(arr[i][j])\n",
    "    mini2.append(min(mini))\n",
    "    mini=[]\n",
    "print(mini2)\n",
    "print('limite Inferior: ', sum(mini2))\n",
    "minimoG=sum(mini2)"
   ]
  },
  {
   "cell_type": "markdown",
   "metadata": {},
   "source": [
    "Se trabaja en un bucle donde se generan las ramificaciones nodo por nodo, expandiendo aquellos que posean el valor mínimo, para encontrar la solución óptima"
   ]
  },
  {
   "cell_type": "code",
   "execution_count": 4,
   "metadata": {},
   "outputs": [],
   "source": [
    "for j in range(4):\n",
    "    \n",
    "    PL=[]\n",
    "    lim_supaux=0\n",
    "    infaux=0    \n",
    "    ML=[]    ##\n",
    "    nodoM=9999\n",
    "    listaM=[]    \n",
    "    ifal=0\n",
    "    ifals=[]\n",
    "    yfals=[]\n",
    "    k=0\n",
    "    l=0\n",
    "    \n",
    "    if j != 0:\n",
    "        lim_sup=j\n",
    "        inf=0\n",
    "        PL.append(lim_inf)\n",
    "        PL.append(lim_sup)\n",
    "        ML.append(arr[0][j])\n",
    "        lim_supaux=lim_sup\n",
    "        ifal=lim_inf\n",
    "        ifals.append(ifal)\n",
    "        yfals.append(lim_supaux)\n",
    "        while k < 4:\n",
    "            ifal = lim_supaux\n",
    "            if ifal not in ifals :\n",
    "                ifals.append(ifal)\n",
    "                while l < 4:\n",
    "                    if l not in yfals and l!=0:\n",
    "                        if arr[ifal][l] != 0:\n",
    "                            if arr[ifal][l] < nodoM:\n",
    "                                nodoM = arr[ifal][l]\n",
    "                                infaux=ifal\n",
    "                                lim_supaux=l                        \n",
    "                    l += 1\n",
    "                    if l!=0 and lim_supaux not in yfals:\n",
    "                        yfals.append(lim_supaux)\n",
    "                        PL.append(lim_supaux)\n",
    "                        ML.append(nodoM)\n",
    "                        ifal=lim_supaux\n",
    "            k += 1\n",
    "            l=0\n",
    "            nodoM=9999\n",
    "            if len(ML)==3:\n",
    "                ML.append(arr[lim_supaux][0])\n",
    "    k=0\n",
    "    MG.append(ML)\n",
    "    PG.append(PL)\n",
    "    distanciasR.append(sum(ML))"
   ]
  },
  {
   "cell_type": "code",
   "execution_count": 5,
   "metadata": {},
   "outputs": [
    {
     "name": "stdout",
     "output_type": "stream",
     "text": [
      "Datos recolectados:\n",
      "\n",
      "Posiciones recorridas:  [[], [0, 1, 2, 3], [0, 2, 1, 3], [0, 3, 1, 2]]\n",
      "Distancias recorridas:  [[], [7, 10, 11, 8], [9, 10, 4, 8], [8, 4, 10, 9]]\n",
      "suma de Distancias recorridas:  [0, 36, 31, 31]\n"
     ]
    }
   ],
   "source": [
    "print(\"Datos recolectados:\\n\")\n",
    "print('Posiciones recorridas: ',PG)\n",
    "print('Distancias recorridas: ',MG)\n",
    "print('suma de Distancias recorridas: ',distanciasR)"
   ]
  },
  {
   "cell_type": "markdown",
   "metadata": {},
   "source": [
    "El mejor camino tiene un peso de 36."
   ]
  },
  {
   "cell_type": "code",
   "execution_count": null,
   "metadata": {},
   "outputs": [],
   "source": []
  }
 ],
 "metadata": {
  "kernelspec": {
   "display_name": "Python 3",
   "language": "python",
   "name": "python3"
  },
  "language_info": {
   "codemirror_mode": {
    "name": "ipython",
    "version": 3
   },
   "file_extension": ".py",
   "mimetype": "text/x-python",
   "name": "python",
   "nbconvert_exporter": "python",
   "pygments_lexer": "ipython3",
   "version": "3.8.5"
  }
 },
 "nbformat": 4,
 "nbformat_minor": 4
}
